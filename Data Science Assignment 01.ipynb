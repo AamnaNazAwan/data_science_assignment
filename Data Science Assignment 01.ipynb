{
 "cells": [
  {
   "cell_type": "code",
   "execution_count": 1,
   "id": "83c190d4",
   "metadata": {},
   "outputs": [
    {
     "name": "stdout",
     "output_type": "stream",
     "text": [
      "Twinkle, twinkle, little star,\n",
      "      \n",
      "\t\tHow I wonder what you are!\n",
      "      \n",
      "\t\t\t\tUp above the world so high,\n",
      "      \n",
      "\t\t\t\tLike a diamond in the sky.\n",
      "      \n",
      "Twinkle, twinkle, little star,\n",
      "       \n",
      "\t\tHow I wonder what you are!\n"
     ]
    }
   ],
   "source": [
    "#(1)Write a Python program to print the following string in a specific format (see the\n",
    "#output).\n",
    "\n",
    "#Twinkle, twinkle, little star,\n",
    "#How I wonder what you are!\n",
    "#Up above the world so high,\n",
    "#Like a diamond in the sky.\n",
    "\n",
    "#Twinkle, twinkle, little star,\n",
    "#How I wonder what you are\n",
    "print('''Twinkle, twinkle, little star,\n",
    "      \\n\\t\\tHow I wonder what you are!\n",
    "      \\n\\t\\t\\t\\tUp above the world so high,\n",
    "      \\n\\t\\t\\t\\tLike a diamond in the sky.\n",
    "      \\nTwinkle, twinkle, little star,\n",
    "       \\n\\t\\tHow I wonder what you are!''');"
   ]
  },
  {
   "cell_type": "code",
   "execution_count": 2,
   "id": "1f1a97e9",
   "metadata": {},
   "outputs": [
    {
     "name": "stdout",
     "output_type": "stream",
     "text": [
      "3.8.8 (default, Apr 13 2021, 15:08:03) [MSC v.1916 64 bit (AMD64)]\n"
     ]
    }
   ],
   "source": [
    "#(2)Write a Python program to get the Python version you are using\n",
    "import sys\n",
    "print(sys.version)"
   ]
  },
  {
   "cell_type": "code",
   "execution_count": 3,
   "id": "cb157a7c",
   "metadata": {},
   "outputs": [
    {
     "name": "stdout",
     "output_type": "stream",
     "text": [
      "now = 2021-12-28 20:55:59.009663\n",
      "date and time = 28/12/2021 20:55:59\n"
     ]
    }
   ],
   "source": [
    "#(3)Write a Python program to display the current date and time.\n",
    "from datetime import datetime\n",
    "\n",
    "# datetime object containing current date and time\n",
    "now = datetime.now()\n",
    " \n",
    "print(\"now =\", now)\n",
    "\n",
    "# dd/mm/YY H:M:S\n",
    "dt_string = now.strftime(\"%d/%m/%Y %H:%M:%S\")\n",
    "print(\"date and time =\", dt_string)"
   ]
  },
  {
   "cell_type": "code",
   "execution_count": 4,
   "id": "c4d94784",
   "metadata": {},
   "outputs": [
    {
     "name": "stdout",
     "output_type": "stream",
     "text": [
      "Input the radius of the circle : 10\n",
      "The area of the circle with radius 10.0 is: 314.1592653589793\n"
     ]
    }
   ],
   "source": [
    "#(4)Write a Python program which accepts the radius of a circle from the user and compute\n",
    "#the area.\n",
    "from math import pi\n",
    "r = float(input (\"Input the radius of the circle : \"))\n",
    "print (\"The area of the circle with radius \" + str(r) + \" is: \" + str(pi * r**2))"
   ]
  },
  {
   "cell_type": "code",
   "execution_count": 5,
   "id": "724faaea",
   "metadata": {},
   "outputs": [
    {
     "name": "stdout",
     "output_type": "stream",
     "text": [
      "enter the first nameAAMNA\n",
      "enter the last nameNAZ\n",
      "NAZ AAMNA\n"
     ]
    }
   ],
   "source": [
    "#(5)Write a Python program which accepts the user's first and last name and print them in\n",
    "#reverse order with a space between them.\n",
    "first=input(\"enter the first name\");\n",
    "last=input(\"enter the last name\");\n",
    "print(last+\" \"+first);"
   ]
  },
  {
   "cell_type": "code",
   "execution_count": 6,
   "id": "ed550497",
   "metadata": {},
   "outputs": [
    {
     "name": "stdout",
     "output_type": "stream",
     "text": [
      "enter the number one56\n",
      "enter the number two78\n",
      "the addition of two number is 134\n"
     ]
    }
   ],
   "source": [
    "#(6)Write a python program which takes two inputs from user and print them addition\n",
    "num1=int(input(\"enter the number one\"));\n",
    "num2=int(input(\"enter the number two\"));\n",
    "print(\"the addition of two number is\",num1+num2);"
   ]
  },
  {
   "cell_type": "code",
   "execution_count": null,
   "id": "daa15504",
   "metadata": {},
   "outputs": [],
   "source": []
  }
 ],
 "metadata": {
  "kernelspec": {
   "display_name": "Python 3",
   "language": "python",
   "name": "python3"
  },
  "language_info": {
   "codemirror_mode": {
    "name": "ipython",
    "version": 3
   },
   "file_extension": ".py",
   "mimetype": "text/x-python",
   "name": "python",
   "nbconvert_exporter": "python",
   "pygments_lexer": "ipython3",
   "version": "3.8.8"
  }
 },
 "nbformat": 4,
 "nbformat_minor": 5
}
